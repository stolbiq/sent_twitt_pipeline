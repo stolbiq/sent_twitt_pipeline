{
 "cells": [
  {
   "cell_type": "markdown",
   "metadata": {},
   "source": [
    "--- Creating the list of stopwords to clean"
   ]
  },
  {
   "cell_type": "code",
   "execution_count": 7,
   "metadata": {
    "collapsed": true
   },
   "outputs": [],
   "source": [
    "from nltk.corpus import stopwords\n",
    "import string\n",
    "\n",
    "smiles_negativ = [':(', ':-(', '=(', ')-:', '):', ');', ')=']\n",
    "smiles_positiv = [':)', ':-)', '=)', ':D', ';-)', ';)', '(-;', '(-:', '(:', '(;', '(=', ':d', ':p']\n",
    "smiles = smiles_negativ + smiles_positiv\n",
    "\n",
    "punctuation = list(string.punctuation)\n",
    "\n",
    "special_stopwords = ['rt', 'les', 'au', 'aux', 'de', 'des', 'du', 'e', 'ee', 'cette', '’', 'leurs', \"'\", '…',\n",
    "                    'la', 'le', 'les', 'un', 'une', 'en', 'y', 'et', 'ce', 'ces', 'cette', 'à', '...' ]\n",
    "\n",
    "stop_words =  smiles + special_stopwords + punctuation"
   ]
  },
  {
   "cell_type": "markdown",
   "metadata": {},
   "source": [
    "--- Function to create tokens"
   ]
  },
  {
   "cell_type": "code",
   "execution_count": 92,
   "metadata": {
    "collapsed": false
   },
   "outputs": [],
   "source": [
    "import nltk\n",
    "import re\n",
    "from nltk.stem.snowball import FrenchStemmer\n",
    "\n",
    "def preprocess(string, bigrams=False, replace_accents=True, stop_words=stop_words, stemming=True, \n",
    "                negation_bigram=True, superlative_bigram=False, repeated_characters=True):\n",
    "    \n",
    "    ### lower case\n",
    "    string = string.lower()\n",
    "    \n",
    "    ### remove HTML tags, @-mentions, # hash-tags, # URLs, # numbers \n",
    "    twit = [\n",
    "        r'<[^>]+>', # HTML tags\n",
    "        r'(?:@[\\w_]+)', # @-mentions\n",
    "        r\"(?:\\#+[\\w_]+[\\w\\'_\\-]*[\\w_]+)\", # hash-tags\n",
    "        r'http[s]?://(?:[a-z]|[0-9]|[$-_@.&amp;+]|[!*\\(\\),]|(?:%[0-9a-f][0-9a-f]))+', # URLs\n",
    "        r'(?:(?:\\d+,?)+(?:\\.?\\d+)?)', # numbers\n",
    "        ]\n",
    "    re_twit = re.compile(r'('+'|'.join(twit)+')', re.VERBOSE | re.IGNORECASE)\n",
    "    string = re.sub(re_twit, \"\", string)\n",
    "    \n",
    "    ### replace accents\n",
    "    if replace_accents:\n",
    "        re_e = re.compile(r'[èêé]')\n",
    "        re_a = re.compile(r'à')\n",
    "        re_c = re.compile(r'ç')\n",
    "        re_u = re.compile(r'ù')\n",
    "        \n",
    "        string = re.sub(re_e, 'e',string)\n",
    "        string = re.sub(re_a, 'a',string)\n",
    "        string = re.sub(re_c, 'c',string)\n",
    "        string = re.sub(re_u, 'u',string)\n",
    "    \n",
    "    ### simple tokenizing\n",
    "    tokens = nltk.word_tokenize(string)\n",
    "     \n",
    "    ### cleaning from stopwords\n",
    "    tokens = [token for token in tokens if token not in stop_words]\n",
    "    \n",
    "    ### remove repeated characters [aeior]\n",
    "    if repeated_characters:\n",
    "        tokens = [re.sub(r'([aeiyghmptuwxzor])\\1+', r'\\1', token) for token in tokens]\n",
    "    \n",
    "    ### Stemming\n",
    "    if stemming:\n",
    "        tokens = stem_tokens(tokens)\n",
    "    \n",
    "    ### ['tres'] + word, word + ['tres'] form a bigram\n",
    "    if superlative_bigram:\n",
    "        tokens_copy = tokens.copy()\n",
    "        index = 0\n",
    "        for token in tokens_copy:\n",
    "            if token == 'tres':\n",
    "                if index != len(tokens)-1:\n",
    "                    token_new = str(token) + ' ' + str(tokens[index+1])\n",
    "                    tokens[index+1] = token_new\n",
    "            index += 1\n",
    "        tokens = [token for token in tokens if token != 'tres']\n",
    "        \n",
    "    \n",
    "    ### pas + word, word + pas form a bigram\n",
    "    if negation_bigram:\n",
    "        tokens_copy = tokens.copy()\n",
    "        index = 0\n",
    "        for token in tokens_copy:\n",
    "            if token == 'pas':\n",
    "                if index != 0:\n",
    "                    token_new1 = str(tokens[index-1]) + ' ' + str(token)\n",
    "                    tokens[index-1] = token_new1 \n",
    "                if index != len(tokens)-1:\n",
    "                    token_new2 = str(token) + ' ' + str(tokens[index+1])\n",
    "                    tokens[index+1] = token_new2\n",
    "            index += 1\n",
    "        tokens = [token for token in tokens if token != 'pas']\n",
    "    \n",
    "    ### Bigrams\n",
    "    if bigrams:\n",
    "        tokens = nltk.bigrams(tokens)\n",
    "\n",
    "    return tokens \n",
    "\n",
    "\n",
    "def stem_tokens(tokens):\n",
    "    stemmer = FrenchStemmer()\n",
    "    stemmed = []\n",
    "    for item in tokens:\n",
    "        stemmed.append(stemmer.stem(item))\n",
    "    return stemmed"
   ]
  },
  {
   "cell_type": "markdown",
   "metadata": {},
   "source": [
    "--- Testing preprocessing function (optinal)"
   ]
  },
  {
   "cell_type": "code",
   "execution_count": 93,
   "metadata": {
    "collapsed": false
   },
   "outputs": [
    {
     "data": {
      "text/plain": [
       "['il',\n",
       " 'neig',\n",
       " 'encor',\n",
       " 'matin',\n",
       " \"c'est pas\",\n",
       " 'pas tre',\n",
       " 'beau',\n",
       " 'ca',\n",
       " 'pass',\n",
       " 'on',\n",
       " 'va',\n",
       " 'avoir',\n",
       " 'bel',\n",
       " 'hiver',\n",
       " 'on',\n",
       " 'dir']"
      ]
     },
     "execution_count": 93,
     "metadata": {},
     "output_type": "execute_result"
    }
   ],
   "source": [
    "tweet = \"Il neige @neige encoooore ce matiiiiin. :) C'est paaaas très beau ! ça passe... On va avoirrrrr une belle hivers on dirait !!! #hivers\"\n",
    "list(preprocess(tweet))"
   ]
  },
  {
   "cell_type": "markdown",
   "metadata": {},
   "source": [
    "--- Reading the positive twitts"
   ]
  },
  {
   "cell_type": "code",
   "execution_count": 94,
   "metadata": {
    "collapsed": false
   },
   "outputs": [],
   "source": [
    "import json\n",
    "import numpy as np\n",
    "import operator\n",
    "from nltk import bigrams\n",
    "from collections import Counter\n",
    "\n",
    "tweets_text_pos = []\n",
    "count_all_pos = Counter()\n",
    "tweets_text = []\n",
    "count_all = Counter()\n",
    "\n",
    "for line in open('pos_selected.json'):\n",
    "    try:\n",
    "        text = json.loads(line)\n",
    "        tweets_text_pos.append(text)\n",
    "        tweets_text.append(text)\n",
    "        \n",
    "        tokens = list(preprocess(text))\n",
    "        count_all_pos.update(tokens)\n",
    "        count_all.update(tokens)\n",
    "\n",
    "    except:\n",
    "        pass\n",
    "    \n",
    "mood_pos = np.ones(len(tweets_text_pos))"
   ]
  },
  {
   "cell_type": "markdown",
   "metadata": {},
   "source": [
    "--- Reading negative twitts"
   ]
  },
  {
   "cell_type": "code",
   "execution_count": 95,
   "metadata": {
    "collapsed": true
   },
   "outputs": [],
   "source": [
    "import json\n",
    "import numpy as np\n",
    "import operator\n",
    "from nltk import bigrams\n",
    "from collections import Counter\n",
    "\n",
    "tweets_text_neg = []\n",
    "count_all_neg = Counter()\n",
    "\n",
    "for line in open('neg_selected.json'):\n",
    "    try: \n",
    "        text = json.loads(line)\n",
    "        tweets_text_neg.append(text)\n",
    "        tweets_text.append(text)\n",
    "        \n",
    "        tokens = list(preprocess(text))\n",
    "        count_all_neg.update(tokens)\n",
    "        count_all.update(tokens)\n",
    "\n",
    "    except:\n",
    "        pass\n",
    "\n",
    "mood_neg = np.zeros(len(tweets_text_neg))\n",
    "mood = list(mood_pos)+list(mood_neg)"
   ]
  },
  {
   "cell_type": "code",
   "execution_count": 96,
   "metadata": {
    "collapsed": false
   },
   "outputs": [
    {
     "data": {
      "text/plain": [
       "6216"
      ]
     },
     "execution_count": 96,
     "metadata": {},
     "output_type": "execute_result"
    }
   ],
   "source": [
    "len(tweets_text_neg)"
   ]
  },
  {
   "cell_type": "code",
   "execution_count": 97,
   "metadata": {
    "collapsed": false
   },
   "outputs": [
    {
     "data": {
      "text/plain": [
       "6961"
      ]
     },
     "execution_count": 97,
     "metadata": {},
     "output_type": "execute_result"
    }
   ],
   "source": [
    "len(tweets_text_pos)"
   ]
  },
  {
   "cell_type": "markdown",
   "metadata": {},
   "source": [
    "--- Entropy calculation"
   ]
  },
  {
   "cell_type": "code",
   "execution_count": 98,
   "metadata": {
    "collapsed": false
   },
   "outputs": [],
   "source": [
    "import numpy as np\n",
    "\n",
    "entropy = {}\n",
    "plot_build = True\n",
    "\n",
    "### coefficient to balance the difference in quantaties of positive and negative twitts\n",
    "alpha = len(count_all_neg)/len(count_all_pos)\n",
    "\n",
    "for word in list(count_all):\n",
    "    denominator = count_all_neg[word] + count_all_pos[word]*alpha\n",
    "    p = count_all_neg[word]/denominator\n",
    "    if p==0 or p==1:\n",
    "        entropy[word] = 0\n",
    "    else:\n",
    "        entropy[word] = -(p*np.log(p)+(1-p)*np.log(1-p))"
   ]
  },
  {
   "cell_type": "markdown",
   "metadata": {},
   "source": [
    "--- Let's see the words with the highest entropy (optional)"
   ]
  },
  {
   "cell_type": "code",
   "execution_count": 99,
   "metadata": {
    "collapsed": false
   },
   "outputs": [
    {
     "data": {
      "text/plain": [
       "[('plein', 0.69314525597019394),\n",
       " ('con', 0.69314525597019394),\n",
       " ('jou', 0.69314325223373896),\n",
       " ('pc', 0.69314035395190077),\n",
       " ('svp', 0.69314035395190077),\n",
       " ('gen', 0.69313120833014774),\n",
       " ('semain', 0.69312263272761243),\n",
       " ('tous', 0.69310941080336108),\n",
       " ('voul', 0.6931004621644048),\n",
       " ('certain', 0.69309272103017738),\n",
       " ('rien', 0.69308850292426505),\n",
       " ('h', 0.69306866329430838),\n",
       " ('suis', 0.69306742409629596),\n",
       " ('cher', 0.69305735393050427),\n",
       " ('elle', 0.69304107127315273),\n",
       " ('dan', 0.69302687001306573),\n",
       " ('vois', 0.69300459159632877),\n",
       " ('soir', 0.69296919989590844),\n",
       " ('se', 0.69295573675242061),\n",
       " ('fait', 0.69295172125706406)]"
      ]
     },
     "execution_count": 99,
     "metadata": {},
     "output_type": "execute_result"
    }
   ],
   "source": [
    "sorted_entropy = reversed(sorted(entropy.items(), key=operator.itemgetter(1)))\n",
    "list(sorted_entropy)[0:20]"
   ]
  },
  {
   "cell_type": "markdown",
   "metadata": {},
   "source": [
    "--- Histogram of the entropy (optional)"
   ]
  },
  {
   "cell_type": "code",
   "execution_count": 100,
   "metadata": {
    "collapsed": false
   },
   "outputs": [
    {
     "data": {
      "image/png": "[encoded data removed]",
      "text/plain": [
       "<matplotlib.figure.Figure at 0x29ad63c07b8>"
      ]
     },
     "execution_count": 100,
     "metadata": {},
     "output_type": "execute_result"
    }
   ],
   "source": [
    "import matplotlib.pyplot as plt\n",
    "val_arr = []\n",
    "exclude_1_occurence = True\n",
    "for val in entropy.values():\n",
    "    if exclude_1_occurence:\n",
    "        if val>0:\n",
    "            val_arr.append(val)\n",
    "    else:\n",
    "        if val>=0:\n",
    "            val_arr.append(val)\n",
    "plt.clf()\n",
    "plt.hist(val_arr, bins = 100)\n",
    "plt.title(\"Entropy distribution\")\n",
    "plt.xlabel(\"Entropy\")\n",
    "plt.ylabel(\"Words density\")\n",
    "plt.gcf()"
   ]
  },
  {
   "cell_type": "markdown",
   "metadata": {},
   "source": [
    "--- Tf-Idf matrix"
   ]
  },
  {
   "cell_type": "code",
   "execution_count": 86,
   "metadata": {
    "collapsed": false
   },
   "outputs": [],
   "source": [
    "from sklearn.feature_extraction.text import TfidfVectorizer\n",
    "\n",
    "tokenizer = preprocess\n",
    "stopwords_exclude = True\n",
    "\n",
    "big_entropy = True\n",
    "less_frequent = True\n",
    "\n",
    "if stopwords_exclude:\n",
    "    \n",
    "    stops_count = count_all.copy()\n",
    "    \n",
    "    if big_entropy and ~less_frequent:\n",
    "        stops_count = [word for word in list(count_all) if entropy[word]>0.65]\n",
    "    \n",
    "    if ~big_entropy and less_frequent:\n",
    "        stops_count = [word for word in list(count_all) if count_all[word]<5]\n",
    "    \n",
    "    if big_entropy and less_frequent:\n",
    "        stops_count = [word for word in list(count_all) if entropy[word]>0.6 or count_all[word]<2]\n",
    "                \n",
    "    tfidf = TfidfVectorizer(tokenizer=tokenizer, stop_words = stops_count)\n",
    "else:\n",
    "    tfidf = TfidfVectorizer(tokenizer=tokenizer)\n",
    "\n",
    "A = tfidf.fit_transform(tweets_text)\n",
    "feature_names = tfidf.get_feature_names()"
   ]
  },
  {
   "cell_type": "markdown",
   "metadata": {},
   "source": [
    "--- X --> features, Y --> labels: splitting into train and test parts"
   ]
  },
  {
   "cell_type": "code",
   "execution_count": 87,
   "metadata": {
    "collapsed": false
   },
   "outputs": [
    {
     "data": {
      "text/plain": [
       "(13177, 2225)"
      ]
     },
     "execution_count": 87,
     "metadata": {},
     "output_type": "execute_result"
    }
   ],
   "source": [
    "A = A.toarray()\n",
    "X = A\n",
    "Y = mood\n",
    "X.shape"
   ]
  },
  {
   "cell_type": "code",
   "execution_count": 88,
   "metadata": {
    "collapsed": false
   },
   "outputs": [],
   "source": [
    "from sklearn.cross_validation import train_test_split\n",
    "\n",
    "X_train, X_test, Y_train, Y_test = train_test_split(X,Y)"
   ]
  },
  {
   "cell_type": "markdown",
   "metadata": {},
   "source": [
    "--- Learner application: testing different learners (Random Forest, Naive Bayes, SVM)"
   ]
  },
  {
   "cell_type": "code",
   "execution_count": 89,
   "metadata": {
    "collapsed": true
   },
   "outputs": [],
   "source": [
    "from sklearn.ensemble import RandomForestRegressor as rf\n",
    "from sklearn.naive_bayes import MultinomialNB as bs\n",
    "from sklearn.svm import LinearSVC as svm\n",
    "\n",
    "model = svm()\n",
    "\n",
    "model.fit(X_train, Y_train)\n",
    "Y_pred = model.predict(X_test)"
   ]
  },
  {
   "cell_type": "markdown",
   "metadata": {},
   "source": [
    "--- Accuracy metrics"
   ]
  },
  {
   "cell_type": "code",
   "execution_count": 90,
   "metadata": {
    "collapsed": true
   },
   "outputs": [],
   "source": [
    "def accuracy(real, pred):\n",
    "    return 1-np.sum(np.abs(real - pred))/len(real)"
   ]
  },
  {
   "cell_type": "code",
   "execution_count": 91,
   "metadata": {
    "collapsed": false
   },
   "outputs": [
    {
     "data": {
      "text/plain": [
       "0.79362670713201822"
      ]
     },
     "execution_count": 91,
     "metadata": {},
     "output_type": "execute_result"
    }
   ],
   "source": [
    "accuracy(Y_test, Y_pred)"
   ]
  },
  {
   "cell_type": "code",
   "execution_count": null,
   "metadata": {
    "collapsed": true
   },
   "outputs": [],
   "source": []
  }
 ],
 "metadata": {
  "anaconda-cloud": {},
  "kernelspec": {
   "display_name": "Python [conda root]",
   "language": "python",
   "name": "conda-root-py"
  },
  "language_info": {
   "codemirror_mode": {
    "name": "ipython",
    "version": 3
   },
   "file_extension": ".py",
   "mimetype": "text/x-python",
   "name": "python",
   "nbconvert_exporter": "python",
   "pygments_lexer": "ipython3",
   "version": "3.5.2"
  }
 },
 "nbformat": 4,
 "nbformat_minor": 1
}
