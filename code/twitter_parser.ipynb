{
 "cells": [
  {
   "cell_type": "code",
   "execution_count": 1,
   "metadata": {
    "collapsed": true
   },
   "outputs": [],
   "source": [
    "import tweepy\n",
    "from tweepy import OAuthHandler\n",
    " \n",
    "consumer_key = 'r8BGSocOtv6vZBnjcwkU5qM4u'\n",
    "consumer_secret = 'CNAJg23IWXLvUUyJfuFUQOYfzvtKfQVQu6SsY82yJY7GGdhBDC'\n",
    "access_token = '796083347315367936-grZPgV2cW8DvrozevvihPIJ1Oq9WQVK'\n",
    "access_secret = 'oJoGFZYDDOXjyG30v0FBChWmGfF9RG6fXvDCVuNrDZJGb'\n",
    " \n",
    "auth = OAuthHandler(consumer_key, consumer_secret)\n",
    "auth.set_access_token(access_token, access_secret)\n",
    " \n",
    "api = tweepy.API(auth)"
   ]
  },
  {
   "cell_type": "markdown",
   "metadata": {},
   "source": [
    "--- Collecting positive tweets"
   ]
  },
  {
   "cell_type": "code",
   "execution_count": null,
   "metadata": {
    "collapsed": false
   },
   "outputs": [],
   "source": [
    "from tweepy import Stream\n",
    "from tweepy.streaming import StreamListener\n",
    " \n",
    "class MyListener(StreamListener):\n",
    "    def on_data(self, data):\n",
    "        try:\n",
    "            with open('positive.json', 'a') as f:\n",
    "                f.write(data)\n",
    "                return True\n",
    "        except BaseException as e:\n",
    "            print('&quot; Error on_data: %s&quot; % str(e)')\n",
    "            return True\n",
    "    def on_error(self, status):\n",
    "        print(status)\n",
    "        return True\n",
    "    \n",
    "twitter_stream = Stream(auth, MyListener())\n",
    "\n",
    "### filter for positive tweets \n",
    "tracker1 = [':)', ':-)', '=)', ':D', ';-)', ';)', '(-;', '(-:', '(:', '(;', '(=']\n",
    "tracker2 = [':)', ':-)', '=)']\n",
    "twitter_stream.filter(track=tracker2, languages=['fr'])"
   ]
  },
  {
   "cell_type": "markdown",
   "metadata": {},
   "source": [
    "--- Collecting negative tweets"
   ]
  },
  {
   "cell_type": "code",
   "execution_count": null,
   "metadata": {
    "collapsed": true
   },
   "outputs": [],
   "source": [
    "from tweepy import Stream\n",
    "from tweepy.streaming import StreamListener\n",
    " \n",
    "class MyListener(StreamListener):\n",
    "    def on_data(self, data):\n",
    "        try:\n",
    "            with open('negative.json', 'a') as f:\n",
    "                f.write(data)\n",
    "                return True\n",
    "        except BaseException as e:\n",
    "            print('&quot; Error on_data: %s&quot; % str(e)')\n",
    "            return True\n",
    "    def on_error(self, status):\n",
    "        print(status)\n",
    "        return True\n",
    "    \n",
    "twitter_stream = Stream(auth, MyListener())\n",
    "\n",
    "### filter for negative tweets\n",
    "twitter_stream.filter(track=[':(', ':-(', '=(', ')-:', '):', ');', ')=', \":'(\", \":'‑(\"], languages=['fr'])"
   ]
  },
  {
   "cell_type": "markdown",
   "metadata": {},
   "source": [
    "--- Creating a clean file with positive tweets... \n",
    "1) only unique tweets\n",
    "2) no ambigueus tweets with positive and negative smiles"
   ]
  },
  {
   "cell_type": "code",
   "execution_count": 1,
   "metadata": {
    "collapsed": false
   },
   "outputs": [],
   "source": [
    "import string\n",
    "import json\n",
    "smiles_positiv = [':)', ':-)', '=)']\n",
    "smiles_negativ = [':(', ':-(', '=(', ')-:', '):', ');', ')=', \":'(\", \":'‑(\"]\n",
    "\n",
    "tweets_text = set()\n",
    "f = open('pos_selected.json', 'a')\n",
    "\n",
    "for line in open('positive.json'):\n",
    "    try:\n",
    "        new_tweet = json.loads(line)\n",
    "        text = new_tweet['text']\n",
    "        \n",
    "        ### check for the repetitions\n",
    "        len_old = len(tweets_text)\n",
    "        tweets_text.add(text)\n",
    "        len_new = len(tweets_text)\n",
    "        repet_ok = len_new > len_old\n",
    "        \n",
    "        ### check for the presence of the positive and abscence of negative smiles \n",
    "        pos_smiles_found = [smile for smile in smiles_positiv if text.find(smile)>=0]\n",
    "        neg_smiles_found = [smile for smile in smiles_negativ if text.find(smile)>=0]\n",
    "        pos_ok = len(pos_smiles_found)>0\n",
    "        neg_no = len(neg_smiles_found)==0\n",
    "        \n",
    "        if repet_ok and pos_ok and neg_no:\n",
    "            f.write('\"'+text+'\"')\n",
    "            f.write('\\n')\n",
    "    except:\n",
    "        pass\n",
    "f.close()"
   ]
  },
  {
   "cell_type": "code",
   "execution_count": 16,
   "metadata": {
    "collapsed": false
   },
   "outputs": [],
   "source": [
    "import string\n",
    "import json\n",
    "smiles_positiv = [':)', ':-)', '=)', ':D', ';-)', ';)', '(-;', '(-:', '(:', '(;', '(=', ':d', ':p']\n",
    "smiles_negativ = [':(', ':-(', '=(', \":'(\", \":'‑(\"]\n",
    "\n",
    "tweets_text = set()\n",
    "f = open('neg_selected.json', 'w')\n",
    "\n",
    "for line in open('negative.json'):\n",
    "    try: \n",
    "        new_tweet = json.loads(line)\n",
    "        text = new_tweet['text']\n",
    "        \n",
    "        ### check for the repetitions\n",
    "        len_old = len(tweets_text)\n",
    "        tweets_text.add(text)\n",
    "        len_new = len(tweets_text)\n",
    "        repet_ok = len_new > len_old\n",
    "        \n",
    "        ### check for the presence of the negative and abscence of positive smiles \n",
    "        pos_smiles_found = [smile for smile in smiles_positiv if text.find(smile)>=0]\n",
    "        neg_smiles_found = [smile for smile in smiles_negativ if text.find(smile)>=0]\n",
    "        pos_no = len(pos_smiles_found)==0\n",
    "        neg_ok = len(neg_smiles_found)>0\n",
    "        \n",
    "        if repet_ok and pos_no and neg_ok:\n",
    "            f.write('\"'+text+'\"')\n",
    "            f.write('\\n')\n",
    "    except:\n",
    "        pass\n",
    "f.close()"
   ]
  },
  {
   "cell_type": "markdown",
   "metadata": {},
   "source": [
    "--- Creating a clean file with negative tweets"
   ]
  }
 ],
 "metadata": {
  "anaconda-cloud": {},
  "kernelspec": {
   "display_name": "Python [conda root]",
   "language": "python",
   "name": "conda-root-py"
  },
  "language_info": {
   "codemirror_mode": {
    "name": "ipython",
    "version": 3
   },
   "file_extension": ".py",
   "mimetype": "text/x-python",
   "name": "python",
   "nbconvert_exporter": "python",
   "pygments_lexer": "ipython3",
   "version": "3.5.2"
  }
 },
 "nbformat": 4,
 "nbformat_minor": 1
}
